{
  "nbformat": 4,
  "nbformat_minor": 0,
  "metadata": {
    "colab": {
      "provenance": []
    },
    "kernelspec": {
      "name": "python3",
      "display_name": "Python 3"
    },
    "language_info": {
      "name": "python"
    }
  },
  "cells": [
    {
      "cell_type": "code",
      "execution_count": 1,
      "metadata": {
        "id": "ngZYpyQK4wgZ"
      },
      "outputs": [],
      "source": [
        "import numpy as np\n",
        "import pandas as pd\n",
        "from sklearn.model_selection import train_test_split, KFold, cross_val_score\n",
        "from sklearn.tree import DecisionTreeClassifier\n",
        "from sklearn.ensemble import RandomForestClassifier, GradientBoostingClassifier\n",
        "from sklearn.neighbors import KNeighborsClassifier\n",
        "from sklearn.metrics import accuracy_score, precision_score, recall_score, f1_score, classification_report\n",
        "import matplotlib.pyplot as plt\n",
        "import seaborn as sns"
      ]
    },
    {
      "cell_type": "code",
      "source": [
        "from google.colab import files\n",
        "x = files.upload()"
      ],
      "metadata": {
        "colab": {
          "base_uri": "https://localhost:8080/",
          "height": 73
        },
        "id": "C_obhEFd5JWr",
        "outputId": "845ac0bd-0f0f-4cfe-b78b-96bc8184047a"
      },
      "execution_count": 2,
      "outputs": [
        {
          "output_type": "display_data",
          "data": {
            "text/plain": [
              "<IPython.core.display.HTML object>"
            ],
            "text/html": [
              "\n",
              "     <input type=\"file\" id=\"files-03d2ad0d-ada9-46d5-8403-7e74ec2fe65f\" name=\"files[]\" multiple disabled\n",
              "        style=\"border:none\" />\n",
              "     <output id=\"result-03d2ad0d-ada9-46d5-8403-7e74ec2fe65f\">\n",
              "      Upload widget is only available when the cell has been executed in the\n",
              "      current browser session. Please rerun this cell to enable.\n",
              "      </output>\n",
              "      <script>// Copyright 2017 Google LLC\n",
              "//\n",
              "// Licensed under the Apache License, Version 2.0 (the \"License\");\n",
              "// you may not use this file except in compliance with the License.\n",
              "// You may obtain a copy of the License at\n",
              "//\n",
              "//      http://www.apache.org/licenses/LICENSE-2.0\n",
              "//\n",
              "// Unless required by applicable law or agreed to in writing, software\n",
              "// distributed under the License is distributed on an \"AS IS\" BASIS,\n",
              "// WITHOUT WARRANTIES OR CONDITIONS OF ANY KIND, either express or implied.\n",
              "// See the License for the specific language governing permissions and\n",
              "// limitations under the License.\n",
              "\n",
              "/**\n",
              " * @fileoverview Helpers for google.colab Python module.\n",
              " */\n",
              "(function(scope) {\n",
              "function span(text, styleAttributes = {}) {\n",
              "  const element = document.createElement('span');\n",
              "  element.textContent = text;\n",
              "  for (const key of Object.keys(styleAttributes)) {\n",
              "    element.style[key] = styleAttributes[key];\n",
              "  }\n",
              "  return element;\n",
              "}\n",
              "\n",
              "// Max number of bytes which will be uploaded at a time.\n",
              "const MAX_PAYLOAD_SIZE = 100 * 1024;\n",
              "\n",
              "function _uploadFiles(inputId, outputId) {\n",
              "  const steps = uploadFilesStep(inputId, outputId);\n",
              "  const outputElement = document.getElementById(outputId);\n",
              "  // Cache steps on the outputElement to make it available for the next call\n",
              "  // to uploadFilesContinue from Python.\n",
              "  outputElement.steps = steps;\n",
              "\n",
              "  return _uploadFilesContinue(outputId);\n",
              "}\n",
              "\n",
              "// This is roughly an async generator (not supported in the browser yet),\n",
              "// where there are multiple asynchronous steps and the Python side is going\n",
              "// to poll for completion of each step.\n",
              "// This uses a Promise to block the python side on completion of each step,\n",
              "// then passes the result of the previous step as the input to the next step.\n",
              "function _uploadFilesContinue(outputId) {\n",
              "  const outputElement = document.getElementById(outputId);\n",
              "  const steps = outputElement.steps;\n",
              "\n",
              "  const next = steps.next(outputElement.lastPromiseValue);\n",
              "  return Promise.resolve(next.value.promise).then((value) => {\n",
              "    // Cache the last promise value to make it available to the next\n",
              "    // step of the generator.\n",
              "    outputElement.lastPromiseValue = value;\n",
              "    return next.value.response;\n",
              "  });\n",
              "}\n",
              "\n",
              "/**\n",
              " * Generator function which is called between each async step of the upload\n",
              " * process.\n",
              " * @param {string} inputId Element ID of the input file picker element.\n",
              " * @param {string} outputId Element ID of the output display.\n",
              " * @return {!Iterable<!Object>} Iterable of next steps.\n",
              " */\n",
              "function* uploadFilesStep(inputId, outputId) {\n",
              "  const inputElement = document.getElementById(inputId);\n",
              "  inputElement.disabled = false;\n",
              "\n",
              "  const outputElement = document.getElementById(outputId);\n",
              "  outputElement.innerHTML = '';\n",
              "\n",
              "  const pickedPromise = new Promise((resolve) => {\n",
              "    inputElement.addEventListener('change', (e) => {\n",
              "      resolve(e.target.files);\n",
              "    });\n",
              "  });\n",
              "\n",
              "  const cancel = document.createElement('button');\n",
              "  inputElement.parentElement.appendChild(cancel);\n",
              "  cancel.textContent = 'Cancel upload';\n",
              "  const cancelPromise = new Promise((resolve) => {\n",
              "    cancel.onclick = () => {\n",
              "      resolve(null);\n",
              "    };\n",
              "  });\n",
              "\n",
              "  // Wait for the user to pick the files.\n",
              "  const files = yield {\n",
              "    promise: Promise.race([pickedPromise, cancelPromise]),\n",
              "    response: {\n",
              "      action: 'starting',\n",
              "    }\n",
              "  };\n",
              "\n",
              "  cancel.remove();\n",
              "\n",
              "  // Disable the input element since further picks are not allowed.\n",
              "  inputElement.disabled = true;\n",
              "\n",
              "  if (!files) {\n",
              "    return {\n",
              "      response: {\n",
              "        action: 'complete',\n",
              "      }\n",
              "    };\n",
              "  }\n",
              "\n",
              "  for (const file of files) {\n",
              "    const li = document.createElement('li');\n",
              "    li.append(span(file.name, {fontWeight: 'bold'}));\n",
              "    li.append(span(\n",
              "        `(${file.type || 'n/a'}) - ${file.size} bytes, ` +\n",
              "        `last modified: ${\n",
              "            file.lastModifiedDate ? file.lastModifiedDate.toLocaleDateString() :\n",
              "                                    'n/a'} - `));\n",
              "    const percent = span('0% done');\n",
              "    li.appendChild(percent);\n",
              "\n",
              "    outputElement.appendChild(li);\n",
              "\n",
              "    const fileDataPromise = new Promise((resolve) => {\n",
              "      const reader = new FileReader();\n",
              "      reader.onload = (e) => {\n",
              "        resolve(e.target.result);\n",
              "      };\n",
              "      reader.readAsArrayBuffer(file);\n",
              "    });\n",
              "    // Wait for the data to be ready.\n",
              "    let fileData = yield {\n",
              "      promise: fileDataPromise,\n",
              "      response: {\n",
              "        action: 'continue',\n",
              "      }\n",
              "    };\n",
              "\n",
              "    // Use a chunked sending to avoid message size limits. See b/62115660.\n",
              "    let position = 0;\n",
              "    do {\n",
              "      const length = Math.min(fileData.byteLength - position, MAX_PAYLOAD_SIZE);\n",
              "      const chunk = new Uint8Array(fileData, position, length);\n",
              "      position += length;\n",
              "\n",
              "      const base64 = btoa(String.fromCharCode.apply(null, chunk));\n",
              "      yield {\n",
              "        response: {\n",
              "          action: 'append',\n",
              "          file: file.name,\n",
              "          data: base64,\n",
              "        },\n",
              "      };\n",
              "\n",
              "      let percentDone = fileData.byteLength === 0 ?\n",
              "          100 :\n",
              "          Math.round((position / fileData.byteLength) * 100);\n",
              "      percent.textContent = `${percentDone}% done`;\n",
              "\n",
              "    } while (position < fileData.byteLength);\n",
              "  }\n",
              "\n",
              "  // All done.\n",
              "  yield {\n",
              "    response: {\n",
              "      action: 'complete',\n",
              "    }\n",
              "  };\n",
              "}\n",
              "\n",
              "scope.google = scope.google || {};\n",
              "scope.google.colab = scope.google.colab || {};\n",
              "scope.google.colab._files = {\n",
              "  _uploadFiles,\n",
              "  _uploadFilesContinue,\n",
              "};\n",
              "})(self);\n",
              "</script> "
            ]
          },
          "metadata": {}
        },
        {
          "output_type": "stream",
          "name": "stdout",
          "text": [
            "Saving dataset.csv to dataset.csv\n"
          ]
        }
      ]
    },
    {
      "cell_type": "code",
      "source": [
        "file_path = list(x.keys())[0]\n",
        "df = pd.read_csv(file_path)\n",
        "\n",
        "# Display first few rows\n",
        "print(\"Dataset Head:\")\n",
        "print(df.head())"
      ],
      "metadata": {
        "colab": {
          "base_uri": "https://localhost:8080/"
        },
        "id": "fgm_nH0h5K-z",
        "outputId": "da38c3b5-6964-4efd-f3ef-be53556d4465"
      },
      "execution_count": 3,
      "outputs": [
        {
          "output_type": "stream",
          "name": "stdout",
          "text": [
            "Dataset Head:\n",
            "   Feature_1  Feature_2  Feature_3  Feature_4  Feature_5  Feature_6  \\\n",
            "0        NaN  -1.382643   6.476885  15.230299  -2.341534  -2.341370   \n",
            "1  -6.017066  18.522782  -0.134972 -10.577109   8.225449 -12.208436   \n",
            "2 -47.917424  -1.856590 -11.063350 -11.962066   8.125258  13.562400   \n",
            "3   0.970775   9.686450  -7.020531  -3.276621  -3.921082 -14.635149   \n",
            "4        NaN  -9.093875        NaN -14.018511   5.868571  21.904556   \n",
            "\n",
            "   Feature_7  Feature_8  Feature_9  Feature_10  ...  Feature_21  Feature_22  \\\n",
            "0  15.792128   7.674347  -4.694744    5.425600  ...   14.656488   -2.257763   \n",
            "1   2.088636 -19.596701 -13.281860    1.968612  ...         NaN   -3.850823   \n",
            "2  -0.720101        NaN   3.616360   -6.451198  ...   -2.196719         NaN   \n",
            "3   2.961203   2.610553   0.051135   -2.345871  ...  -19.187712   -0.265139   \n",
            "4  -9.905363  -5.662977   0.996514   -5.034757  ...    2.274599   13.071428   \n",
            "\n",
            "   Feature_23  Feature_24  Feature_25  Feature_26  Feature_27  Feature_28  \\\n",
            "0    0.675282  -14.247482   -5.443827    1.109226 -115.099358    3.756980   \n",
            "1   -6.769220    6.116763   10.309995    9.312801   -8.392175   -3.092124   \n",
            "2   14.778940   -5.182702  -80.849360   -5.017570         NaN    3.287511   \n",
            "3         NaN   24.632421   -1.923610    3.015473   -0.347118  -11.686780   \n",
            "4  -16.074832    1.846339    2.598828   78.182287  -12.369507  -13.204566   \n",
            "\n",
            "   Feature_29  Feature_30  \n",
            "0   -6.006387   -2.916937  \n",
            "1    3.312634    9.755451  \n",
            "2         NaN    5.132674  \n",
            "3         NaN    7.519330  \n",
            "4    5.219416    2.969847  \n",
            "\n",
            "[5 rows x 30 columns]\n"
          ]
        }
      ]
    },
    {
      "cell_type": "code",
      "source": [
        "print(\"Dataset Info:\")\n",
        "print(df.info())"
      ],
      "metadata": {
        "colab": {
          "base_uri": "https://localhost:8080/"
        },
        "id": "_FlPyY8J5Tj6",
        "outputId": "203b7a0b-2e64-4d4f-b12a-5245f8547712"
      },
      "execution_count": 4,
      "outputs": [
        {
          "output_type": "stream",
          "name": "stdout",
          "text": [
            "Dataset Info:\n",
            "<class 'pandas.core.frame.DataFrame'>\n",
            "RangeIndex: 1050 entries, 0 to 1049\n",
            "Data columns (total 30 columns):\n",
            " #   Column      Non-Null Count  Dtype  \n",
            "---  ------      --------------  -----  \n",
            " 0   Feature_1   943 non-null    float64\n",
            " 1   Feature_2   938 non-null    float64\n",
            " 2   Feature_3   945 non-null    float64\n",
            " 3   Feature_4   956 non-null    float64\n",
            " 4   Feature_5   949 non-null    float64\n",
            " 5   Feature_6   943 non-null    float64\n",
            " 6   Feature_7   947 non-null    float64\n",
            " 7   Feature_8   951 non-null    float64\n",
            " 8   Feature_9   951 non-null    float64\n",
            " 9   Feature_10  948 non-null    float64\n",
            " 10  Feature_11  938 non-null    float64\n",
            " 11  Feature_12  956 non-null    float64\n",
            " 12  Feature_13  963 non-null    float64\n",
            " 13  Feature_14  964 non-null    float64\n",
            " 14  Feature_15  966 non-null    float64\n",
            " 15  Feature_16  946 non-null    float64\n",
            " 16  Feature_17  948 non-null    float64\n",
            " 17  Feature_18  948 non-null    float64\n",
            " 18  Feature_19  958 non-null    float64\n",
            " 19  Feature_20  961 non-null    float64\n",
            " 20  Feature_21  957 non-null    float64\n",
            " 21  Feature_22  936 non-null    float64\n",
            " 22  Feature_23  948 non-null    float64\n",
            " 23  Feature_24  943 non-null    float64\n",
            " 24  Feature_25  958 non-null    float64\n",
            " 25  Feature_26  950 non-null    float64\n",
            " 26  Feature_27  958 non-null    float64\n",
            " 27  Feature_28  951 non-null    float64\n",
            " 28  Feature_29  940 non-null    float64\n",
            " 29  Feature_30  953 non-null    float64\n",
            "dtypes: float64(30)\n",
            "memory usage: 246.2 KB\n",
            "None\n"
          ]
        }
      ]
    },
    {
      "cell_type": "code",
      "source": [
        "# Handle missing values:\n",
        "print(\"Dataset Head before handling missing values:\\n\", df.isnull().sum())\n",
        "df.loc[0:10, 'Feature_1'] = np.nan\n",
        "df.fillna(df.mean(), inplace=True)\n",
        "print(\"Dataset Head after handling missing values:\\n\", df.isnull().sum())"
      ],
      "metadata": {
        "colab": {
          "base_uri": "https://localhost:8080/"
        },
        "id": "IqjNShXn-Zjr",
        "outputId": "b848a8a6-a4f9-4e85-e50e-31c41836dd45"
      },
      "execution_count": 5,
      "outputs": [
        {
          "output_type": "stream",
          "name": "stdout",
          "text": [
            "Dataset Head before handling missing values:\n",
            " Feature_1     107\n",
            "Feature_2     112\n",
            "Feature_3     105\n",
            "Feature_4      94\n",
            "Feature_5     101\n",
            "Feature_6     107\n",
            "Feature_7     103\n",
            "Feature_8      99\n",
            "Feature_9      99\n",
            "Feature_10    102\n",
            "Feature_11    112\n",
            "Feature_12     94\n",
            "Feature_13     87\n",
            "Feature_14     86\n",
            "Feature_15     84\n",
            "Feature_16    104\n",
            "Feature_17    102\n",
            "Feature_18    102\n",
            "Feature_19     92\n",
            "Feature_20     89\n",
            "Feature_21     93\n",
            "Feature_22    114\n",
            "Feature_23    102\n",
            "Feature_24    107\n",
            "Feature_25     92\n",
            "Feature_26    100\n",
            "Feature_27     92\n",
            "Feature_28     99\n",
            "Feature_29    110\n",
            "Feature_30     97\n",
            "dtype: int64\n",
            "Dataset Head after handling missing values:\n",
            " Feature_1     0\n",
            "Feature_2     0\n",
            "Feature_3     0\n",
            "Feature_4     0\n",
            "Feature_5     0\n",
            "Feature_6     0\n",
            "Feature_7     0\n",
            "Feature_8     0\n",
            "Feature_9     0\n",
            "Feature_10    0\n",
            "Feature_11    0\n",
            "Feature_12    0\n",
            "Feature_13    0\n",
            "Feature_14    0\n",
            "Feature_15    0\n",
            "Feature_16    0\n",
            "Feature_17    0\n",
            "Feature_18    0\n",
            "Feature_19    0\n",
            "Feature_20    0\n",
            "Feature_21    0\n",
            "Feature_22    0\n",
            "Feature_23    0\n",
            "Feature_24    0\n",
            "Feature_25    0\n",
            "Feature_26    0\n",
            "Feature_27    0\n",
            "Feature_28    0\n",
            "Feature_29    0\n",
            "Feature_30    0\n",
            "dtype: int64\n"
          ]
        }
      ]
    },
    {
      "cell_type": "code",
      "source": [
        "# 1. Tree Models:\n",
        "# 1) Three different decision tree models:\n",
        "# a) Decision Tree Classifier:\n",
        "X = df.iloc[:, :-1]\n",
        "y = df.iloc[:, -1]\n",
        "y_discrete = (y > np.median(y)).astype(int)\n",
        "# Split data into training and testing sets (Holdout method)\n",
        "X_train, X_test, y_train, y_test = train_test_split(X, y_discrete, test_size=0.2, random_state=42)\n",
        "\n",
        "# Initialize and train the Decision Tree Classifier\n",
        "tree_clf = DecisionTreeClassifier(random_state=42)\n",
        "tree_clf.fit(X_train, y_train)\n",
        "\n",
        "# Predictions and Evaluation\n",
        "y_pred_tree = tree_clf.predict(X_test)\n",
        "\n",
        "# Evaluation Metrics\n",
        "print(\"Decision Tree Classifier Results\")\n",
        "print(\"Accuracy:\", accuracy_score(y_test, y_pred_tree))\n",
        "print(\"Precision:\", precision_score(y_test, y_pred_tree))\n",
        "print(\"Recall:\", recall_score(y_test, y_pred_tree))\n",
        "print(\"F1 Score:\", f1_score(y_test, y_pred_tree))"
      ],
      "metadata": {
        "colab": {
          "base_uri": "https://localhost:8080/"
        },
        "id": "HHqY3Nh96h2v",
        "outputId": "80d58f5b-08ab-4393-83c6-1325504ea3a9"
      },
      "execution_count": 6,
      "outputs": [
        {
          "output_type": "stream",
          "name": "stdout",
          "text": [
            "Decision Tree Classifier Results\n",
            "Accuracy: 0.48095238095238096\n",
            "Precision: 0.4411764705882353\n",
            "Recall: 0.4639175257731959\n",
            "F1 Score: 0.45226130653266333\n"
          ]
        }
      ]
    },
    {
      "cell_type": "code",
      "source": [
        "# b) Random Forest Classifier:\n",
        "rf_clf = RandomForestClassifier(n_estimators=100, random_state=42)\n",
        "rf_clf.fit(X_train, y_train)\n",
        "\n",
        "# Predictions and Evaluation\n",
        "y_pred_rf = rf_clf.predict(X_test)\n",
        "\n",
        "# Evaluation Metrics\n",
        "print(\"Random Forest Classifier Results\")\n",
        "print(\"Accuracy:\", accuracy_score(y_test, y_pred_rf))\n",
        "print(\"Precision:\", precision_score(y_test, y_pred_rf))\n",
        "print(\"Recall:\", recall_score(y_test, y_pred_rf))\n",
        "print(\"F1 Score:\", f1_score(y_test, y_pred_rf))"
      ],
      "metadata": {
        "colab": {
          "base_uri": "https://localhost:8080/"
        },
        "id": "0C5-OCBi7BHz",
        "outputId": "a0b8f56b-ab89-4956-a000-a0bc76a23e5b"
      },
      "execution_count": 7,
      "outputs": [
        {
          "output_type": "stream",
          "name": "stdout",
          "text": [
            "Random Forest Classifier Results\n",
            "Accuracy: 0.5095238095238095\n",
            "Precision: 0.4375\n",
            "Recall: 0.21649484536082475\n",
            "F1 Score: 0.2896551724137931\n"
          ]
        }
      ]
    },
    {
      "cell_type": "code",
      "source": [
        "# c) Gradient Boosting Classifier:\n",
        "gb_clf = GradientBoostingClassifier(n_estimators=100, random_state=42)\n",
        "gb_clf.fit(X_train, y_train)\n",
        "\n",
        "# Predictions and Evaluation\n",
        "y_pred_gb = gb_clf.predict(X_test)\n",
        "\n",
        "# Evaluation Metrics\n",
        "print(\"Gradient Boosting Classifier Results\")\n",
        "print(\"Accuracy:\", accuracy_score(y_test, y_pred_gb))\n",
        "print(\"Precision:\", precision_score(y_test, y_pred_gb))\n",
        "print(\"Recall:\", recall_score(y_test, y_pred_gb))\n",
        "print(\"F1 Score:\", f1_score(y_test, y_pred_gb))"
      ],
      "metadata": {
        "colab": {
          "base_uri": "https://localhost:8080/"
        },
        "id": "vVYOSs0VGzkR",
        "outputId": "eaab93e3-c6e1-4770-a211-984e423bdde1"
      },
      "execution_count": 8,
      "outputs": [
        {
          "output_type": "stream",
          "name": "stdout",
          "text": [
            "Gradient Boosting Classifier Results\n",
            "Accuracy: 0.4857142857142857\n",
            "Precision: 0.4266666666666667\n",
            "Recall: 0.32989690721649484\n",
            "F1 Score: 0.37209302325581395\n"
          ]
        }
      ]
    },
    {
      "cell_type": "code",
      "source": [
        "#2. KNN Model:\n",
        "#1) K-Nearest Neighbors algorithm and the optimal value of kk by plotting its performance against different kk-values:\n",
        "# K-Nearest Neighbors Classifier:\n",
        "knn_clf = KNeighborsClassifier(n_neighbors=5)\n",
        "knn_clf.fit(X_train, y_train)\n",
        "\n",
        "# Predictions and Evaluation\n",
        "y_pred_knn = knn_clf.predict(X_test)\n",
        "\n",
        "# Evaluation Metrics\n",
        "print(\"K-Nearest Neighbors Classifier Results\")\n",
        "print(\"Accuracy:\", accuracy_score(y_test, y_pred_knn))\n",
        "print(\"Precision:\", precision_score(y_test, y_pred_knn))\n",
        "print(\"Recall:\", recall_score(y_test, y_pred_knn))\n",
        "print(\"F1 Score:\", f1_score(y_test, y_pred_knn))\n",
        "\n",
        "# Evaluate KNN for different k-values\n",
        "k_values = range(1, 21)\n",
        "knn_accuracies = []\n",
        "\n",
        "for k in k_values:\n",
        "    knn = KNeighborsClassifier(n_neighbors=k)\n",
        "    knn.fit(X_train, y_train)\n",
        "    y_pred = knn.predict(X_test)\n",
        "    knn_accuracies.append(accuracy_score(y_test, y_pred))\n",
        "\n",
        "# Plotting the performance\n",
        "plt.figure(figsize=(10, 6))\n",
        "plt.plot(k_values, knn_accuracies, marker='o')\n",
        "plt.title('KNN Accuracy for Different k-values')\n",
        "plt.xlabel('Number of Neighbors (k)')\n",
        "plt.ylabel('Accuracy')\n",
        "plt.grid()\n",
        "plt.show()"
      ],
      "metadata": {
        "colab": {
          "base_uri": "https://localhost:8080/",
          "height": 651
        },
        "id": "eiF7S4sCIKkf",
        "outputId": "923809df-5de5-4c0c-96bb-7a60e86c083e"
      },
      "execution_count": 9,
      "outputs": [
        {
          "output_type": "stream",
          "name": "stdout",
          "text": [
            "K-Nearest Neighbors Classifier Results\n",
            "Accuracy: 0.5190476190476191\n",
            "Precision: 0.47368421052631576\n",
            "Recall: 0.3711340206185567\n",
            "F1 Score: 0.4161849710982659\n"
          ]
        },
        {
          "output_type": "display_data",
          "data": {
            "text/plain": [
              "<Figure size 1000x600 with 1 Axes>"
            ],
            "image/png": "[encoded data removed]"
          },
          "metadata": {}
        }
      ]
    },
    {
      "cell_type": "code",
      "source": [
        "# 3. Optimal kk for KNN:\n",
        "# a) The best-fit kk for KNN by visualizing performance metrics across varying kk-values:\n",
        "# Optimal k\n",
        "optimal_k = k_values[np.argmax(knn_accuracies)]\n",
        "print(f\"Optimal k for KNN: {optimal_k}\")\n",
        "\n",
        "# Evaluate KNN with optimal k\n",
        "best_knn = KNeighborsClassifier(n_neighbors=optimal_k)\n",
        "best_knn.fit(X_train, y_train)\n",
        "\n",
        "# Predictions and Evaluation\n",
        "y_pred_oknn = best_knn.predict(X_test)\n",
        "\n",
        "# Evaluation Metrics\n",
        "print(\"Optimal KNN Results\")\n",
        "print(\"Accuracy:\", accuracy_score(y_test, y_pred_oknn))\n",
        "print(\"Precision:\", precision_score(y_test, y_pred_oknn))\n",
        "print(\"Recall:\", recall_score(y_test, y_pred_oknn))\n",
        "print(\"F1 Score:\", f1_score(y_test, y_pred_oknn))\n"
      ],
      "metadata": {
        "colab": {
          "base_uri": "https://localhost:8080/"
        },
        "id": "TotrFHf1MQlS",
        "outputId": "b702b305-eedf-40e8-a712-4b96a535b269"
      },
      "execution_count": 10,
      "outputs": [
        {
          "output_type": "stream",
          "name": "stdout",
          "text": [
            "Optimal k for KNN: 10\n",
            "Optimal KNN Results\n",
            "Accuracy: 0.5619047619047619\n",
            "Precision: 0.5471698113207547\n",
            "Recall: 0.29896907216494845\n",
            "F1 Score: 0.38666666666666666\n"
          ]
        }
      ]
    }
  ]
}